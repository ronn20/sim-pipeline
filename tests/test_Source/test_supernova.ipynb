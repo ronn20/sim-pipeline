{
 "cells": [
  {
   "cell_type": "code",
   "execution_count": 1,
   "id": "c05811b1-bb4f-4c27-b80d-6c181f34e567",
   "metadata": {},
   "outputs": [
    {
     "ename": "ModuleNotFoundError",
     "evalue": "No module named 'sim_pipeline.Sources.source_base'",
     "output_type": "error",
     "traceback": [
      "\u001b[1;31m---------------------------------------------------------------------------\u001b[0m",
      "\u001b[1;31mModuleNotFoundError\u001b[0m                       Traceback (most recent call last)",
      "Cell \u001b[1;32mIn[1], line 1\u001b[0m\n\u001b[1;32m----> 1\u001b[0m \u001b[38;5;28;01mfrom\u001b[39;00m \u001b[38;5;21;01msim_pipeline\u001b[39;00m\u001b[38;5;21;01m.\u001b[39;00m\u001b[38;5;21;01mSources\u001b[39;00m\u001b[38;5;21;01m.\u001b[39;00m\u001b[38;5;21;01msupernovae\u001b[39;00m \u001b[38;5;28;01mimport\u001b[39;00m delaytimedistribution\n\u001b[0;32m      2\u001b[0m \u001b[38;5;28;01mfrom\u001b[39;00m \u001b[38;5;21;01msim_pipeline\u001b[39;00m\u001b[38;5;21;01m.\u001b[39;00m\u001b[38;5;21;01mSources\u001b[39;00m\u001b[38;5;21;01m.\u001b[39;00m\u001b[38;5;21;01msupernovae\u001b[39;00m \u001b[38;5;28;01mimport\u001b[39;00m volumetricSNrate\n\u001b[0;32m      3\u001b[0m \u001b[38;5;28;01mfrom\u001b[39;00m \u001b[38;5;21;01msim_pipeline\u001b[39;00m\u001b[38;5;21;01m.\u001b[39;00m\u001b[38;5;21;01mSources\u001b[39;00m\u001b[38;5;21;01m.\u001b[39;00m\u001b[38;5;21;01msupernovae\u001b[39;00m \u001b[38;5;28;01mimport\u001b[39;00m supernovatotal\n",
      "File \u001b[1;32mc:\\users\\ronan\\onedrive\\desktop\\clone\\sim-pipeline\\sim_pipeline\\Sources\\supernovae.py:1\u001b[0m\n\u001b[1;32m----> 1\u001b[0m \u001b[38;5;28;01mfrom\u001b[39;00m \u001b[38;5;21;01msim_pipeline\u001b[39;00m\u001b[38;5;21;01m.\u001b[39;00m\u001b[38;5;21;01mSources\u001b[39;00m\u001b[38;5;21;01m.\u001b[39;00m\u001b[38;5;21;01msource_base\u001b[39;00m \u001b[38;5;28;01mimport\u001b[39;00m SourceBase\n\u001b[0;32m      2\u001b[0m \u001b[38;5;28;01mclass\u001b[39;00m \u001b[38;5;21;01mSuperNova\u001b[39;00m(SourceBase):\n\u001b[0;32m      3\u001b[0m     \u001b[38;5;28;01mdef\u001b[39;00m \u001b[38;5;21m__init__\u001b[39m(\u001b[38;5;28mself\u001b[39m, cosmo, sky_area):\n",
      "\u001b[1;31mModuleNotFoundError\u001b[0m: No module named 'sim_pipeline.Sources.source_base'"
     ]
    }
   ],
   "source": [
    "from sim_pipeline.Sources.supernovae import delaytimedistribution\n",
    "from sim_pipeline.Sources.supernovae import volumetricSNrate\n",
    "from sim_pipeline.Sources.supernovae import supernovatotal\n",
    "import astropy.units as u\n",
    "delaytimedistribution(.5)"
   ]
  },
  {
   "cell_type": "code",
   "execution_count": 6,
   "id": "2134d148-894a-449d-9a34-0f633b847d97",
   "metadata": {},
   "outputs": [
    {
     "name": "stdout",
     "output_type": "stream",
     "text": [
      "[0.01 0.03 0.05 0.07 0.09 0.11 0.13 0.15 0.17 0.19 0.21 0.23 0.25 0.27\n",
      " 0.29 0.31 0.33 0.35 0.37 0.39 0.41 0.43 0.45 0.47 0.49 0.51 0.53 0.55\n",
      " 0.57 0.59]\n"
     ]
    },
    {
     "data": {
      "image/png": "[encoded data removed]",
      "text/plain": [
       "<Figure size 500x300 with 1 Axes>"
      ]
     },
     "metadata": {},
     "output_type": "display_data"
    }
   ],
   "source": [
    "\"graphing delay time distribution piecewise as a function of time\"\n",
    "from sim_pipeline.Sources.supernovae import delaytimedistribution\n",
    "import numpy as np\n",
    "import astropy.units as u\n",
    "x=np.arange(.01,.6,.02)\n",
    "print(x)\n",
    "from matplotlib import pyplot as plt\n",
    "plt.figure(figsize=(5,3))\n",
    "y=delaytimedistribution(x)\n",
    "plt.xlabel('Gyr')\n",
    "plt.ylabel('Solar Masses')\n",
    "plt.plot(x, y, '-', color='pink')\n",
    "plt.plot(x,y)\n",
    "plt.show()\n"
   ]
  },
  {
   "cell_type": "code",
   "execution_count": 3,
   "id": "dd36b95c-0868-4121-97a2-9947a6b9fc81",
   "metadata": {},
   "outputs": [
    {
     "name": "stdout",
     "output_type": "stream",
     "text": [
      "[1 2 3 4 5]\n"
     ]
    },
    {
     "ename": "ValueError",
     "evalue": "The truth value of an array with more than one element is ambiguous. Use a.any() or a.all()",
     "output_type": "error",
     "traceback": [
      "\u001b[1;31m---------------------------------------------------------------------------\u001b[0m",
      "\u001b[1;31mValueError\u001b[0m                                Traceback (most recent call last)",
      "Cell \u001b[1;32mIn[3], line 10\u001b[0m\n\u001b[0;32m      8\u001b[0m \u001b[38;5;28;01mfrom\u001b[39;00m \u001b[38;5;21;01mmatplotlib\u001b[39;00m \u001b[38;5;28;01mimport\u001b[39;00m pyplot \u001b[38;5;28;01mas\u001b[39;00m plt\n\u001b[0;32m      9\u001b[0m plt\u001b[38;5;241m.\u001b[39mfigure(figsize\u001b[38;5;241m=\u001b[39m(\u001b[38;5;241m5\u001b[39m,\u001b[38;5;241m3\u001b[39m))\n\u001b[1;32m---> 10\u001b[0m y \u001b[38;5;241m=\u001b[39m \u001b[43mvolumetricSNrate\u001b[49m\u001b[43m(\u001b[49m\u001b[43mx\u001b[49m\u001b[43m)\u001b[49m\n\u001b[0;32m     11\u001b[0m plt\u001b[38;5;241m.\u001b[39mplot(x, y, \u001b[38;5;124m'\u001b[39m\u001b[38;5;124m-\u001b[39m\u001b[38;5;124m'\u001b[39m, color\u001b[38;5;241m=\u001b[39m\u001b[38;5;124m'\u001b[39m\u001b[38;5;124mpink\u001b[39m\u001b[38;5;124m'\u001b[39m)\n\u001b[0;32m     12\u001b[0m plt\u001b[38;5;241m.\u001b[39mplot(x,y)\n",
      "File \u001b[1;32mc:\\users\\ronan\\onedrive\\desktop\\clone\\sim-pipeline\\sim_pipeline\\Sources\\supernovae.py:44\u001b[0m, in \u001b[0;36mvolumetricSNrate\u001b[1;34m(t)\u001b[0m\n\u001b[0;32m     42\u001b[0m \u001b[38;5;28;01mimport\u001b[39;00m \u001b[38;5;21;01mscipy\u001b[39;00m\u001b[38;5;21;01m.\u001b[39;00m\u001b[38;5;21;01mintegrate\u001b[39;00m \u001b[38;5;28;01mas\u001b[39;00m \u001b[38;5;21;01mintegrate\u001b[39;00m\n\u001b[0;32m     43\u001b[0m SNVolumetricIntegral\u001b[38;5;241m=\u001b[39m \u001b[38;5;28;01mlambda\u001b[39;00m x: StarFormationHist\u001b[38;5;241m*\u001b[39mdelaytimedistribution(x)\u001b[38;5;241m/\u001b[39mu\u001b[38;5;241m.\u001b[39mGyr\n\u001b[1;32m---> 44\u001b[0m result,_\u001b[38;5;241m=\u001b[39m\u001b[43mintegrate\u001b[49m\u001b[38;5;241;43m.\u001b[39;49m\u001b[43mquad\u001b[49m\u001b[43m(\u001b[49m\u001b[43mSNVolumetricIntegral\u001b[49m\u001b[43m,\u001b[49m\u001b[38;5;241;43m0\u001b[39;49m\u001b[43m,\u001b[49m\u001b[43mt\u001b[49m\u001b[43m)\u001b[49m\n\u001b[0;32m     45\u001b[0m \u001b[38;5;28;01mreturn\u001b[39;00m result\u001b[38;5;241m*\u001b[39mu\u001b[38;5;241m.\u001b[39mUnit(\u001b[38;5;124m'\u001b[39m\u001b[38;5;124mGyr\u001b[39m\u001b[38;5;124m'\u001b[39m)\n",
      "File \u001b[1;32mc:\\users\\ronan\\appdata\\local\\programs\\python\\python311\\lib\\site-packages\\scipy-1.11.2-py3.11-win-amd64.egg\\scipy\\integrate\\_quadpack_py.py:438\u001b[0m, in \u001b[0;36mquad\u001b[1;34m(func, a, b, args, full_output, epsabs, epsrel, limit, points, weight, wvar, wopts, maxp1, limlst, complex_func)\u001b[0m\n\u001b[0;32m    435\u001b[0m     args \u001b[38;5;241m=\u001b[39m (args,)\n\u001b[0;32m    437\u001b[0m \u001b[38;5;66;03m# check the limits of integration: \\int_a^b, expect a < b\u001b[39;00m\n\u001b[1;32m--> 438\u001b[0m flip, a, b \u001b[38;5;241m=\u001b[39m b \u001b[38;5;241m<\u001b[39m a, \u001b[38;5;28;43mmin\u001b[39;49m\u001b[43m(\u001b[49m\u001b[43ma\u001b[49m\u001b[43m,\u001b[49m\u001b[43m \u001b[49m\u001b[43mb\u001b[49m\u001b[43m)\u001b[49m, \u001b[38;5;28mmax\u001b[39m(a, b)\n\u001b[0;32m    440\u001b[0m \u001b[38;5;28;01mif\u001b[39;00m complex_func:\n\u001b[0;32m    441\u001b[0m     \u001b[38;5;28;01mdef\u001b[39;00m \u001b[38;5;21mimfunc\u001b[39m(x, \u001b[38;5;241m*\u001b[39margs):\n",
      "\u001b[1;31mValueError\u001b[0m: The truth value of an array with more than one element is ambiguous. Use a.any() or a.all()"
     ]
    },
    {
     "data": {
      "text/plain": [
       "<Figure size 500x300 with 0 Axes>"
      ]
     },
     "metadata": {},
     "output_type": "display_data"
    }
   ],
   "source": [
    "\"graphing Volumetric SuperNova Rate as a function of redshift\"\n",
    "from sim_pipeline.Sources.supernovae import volumetricSNrate\n",
    "from matplotlib import pyplot as plt\n",
    "import numpy as np\n",
    "x = np.arange(1, 6, 1)\n",
    "print(x)\n",
    "\"test array of redshift\" \n",
    "from matplotlib import pyplot as plt\n",
    "plt.figure(figsize=(5,3))\n",
    "y = volumetricSNrate(x)\n",
    "plt.plot(x, y, '-', color='pink')\n",
    "plt.plot(x,y)\n",
    "plt.show()"
   ]
  },
  {
   "cell_type": "code",
   "execution_count": 3,
   "id": "501dc263-fbc7-422d-a2db-6747ce6f2916",
   "metadata": {},
   "outputs": [
    {
     "name": "stdout",
     "output_type": "stream",
     "text": [
      "[0.5 1.  1.5 2.  2.5]\n"
     ]
    },
    {
     "ename": "TypeError",
     "evalue": "only dimensionless scalar quantities can be converted to Python scalars",
     "output_type": "error",
     "traceback": [
      "\u001b[1;31m---------------------------------------------------------------------------\u001b[0m",
      "\u001b[1;31mTypeError\u001b[0m                                 Traceback (most recent call last)",
      "File \u001b[1;32m~\\AppData\\Local\\Programs\\Python\\Python311\\Lib\\site-packages\\astropy\\units\\quantity.py:1350\u001b[0m, in \u001b[0;36mQuantity.__float__\u001b[1;34m(self)\u001b[0m\n\u001b[0;32m   1349\u001b[0m \u001b[38;5;28;01mtry\u001b[39;00m:\n\u001b[1;32m-> 1350\u001b[0m     \u001b[38;5;28;01mreturn\u001b[39;00m \u001b[38;5;28;43mfloat\u001b[39;49m\u001b[43m(\u001b[49m\u001b[38;5;28;43mself\u001b[39;49m\u001b[38;5;241;43m.\u001b[39;49m\u001b[43mto_value\u001b[49m\u001b[43m(\u001b[49m\u001b[43mdimensionless_unscaled\u001b[49m\u001b[43m)\u001b[49m\u001b[43m)\u001b[49m\n\u001b[0;32m   1351\u001b[0m \u001b[38;5;28;01mexcept\u001b[39;00m (UnitsError, \u001b[38;5;167;01mTypeError\u001b[39;00m):\n",
      "\u001b[1;31mTypeError\u001b[0m: only size-1 arrays can be converted to Python scalars",
      "\nDuring handling of the above exception, another exception occurred:\n",
      "\u001b[1;31mTypeError\u001b[0m                                 Traceback (most recent call last)",
      "Cell \u001b[1;32mIn[3], line 45\u001b[0m\n\u001b[0;32m     43\u001b[0m \u001b[38;5;28;01mfrom\u001b[39;00m \u001b[38;5;21;01mmatplotlib\u001b[39;00m \u001b[38;5;28;01mimport\u001b[39;00m pyplot \u001b[38;5;28;01mas\u001b[39;00m plt\n\u001b[0;32m     44\u001b[0m plt\u001b[38;5;241m.\u001b[39mfigure(figsize\u001b[38;5;241m=\u001b[39m(\u001b[38;5;241m5\u001b[39m,\u001b[38;5;241m3\u001b[39m))\n\u001b[1;32m---> 45\u001b[0m y \u001b[38;5;241m=\u001b[39m \u001b[43mvolumetricSNrate\u001b[49m\u001b[43m(\u001b[49m\u001b[43mx\u001b[49m\u001b[43m)\u001b[49m\n\u001b[0;32m     46\u001b[0m plt\u001b[38;5;241m.\u001b[39mxlabel(\u001b[38;5;124m'\u001b[39m\u001b[38;5;124mGyr\u001b[39m\u001b[38;5;124m'\u001b[39m)\n\u001b[0;32m     47\u001b[0m plt\u001b[38;5;241m.\u001b[39mylabel(\u001b[38;5;124m'\u001b[39m\u001b[38;5;124mvolume\u001b[39m\u001b[38;5;124m'\u001b[39m)\n",
      "Cell \u001b[1;32mIn[3], line 33\u001b[0m, in \u001b[0;36mvolumetricSNrate\u001b[1;34m(t)\u001b[0m\n\u001b[0;32m     31\u001b[0m SNVolumetricIntegral \u001b[38;5;241m=\u001b[39m \u001b[38;5;28;01mlambda\u001b[39;00m x: StarFormationHist(z)\u001b[38;5;241m*\u001b[39mdelaytimedistribution(x)\u001b[38;5;241m.\u001b[39mvalue\n\u001b[0;32m     32\u001b[0m \u001b[38;5;28;01mfor\u001b[39;00m i,val \u001b[38;5;129;01min\u001b[39;00m \u001b[38;5;28menumerate\u001b[39m(t):\n\u001b[1;32m---> 33\u001b[0m     integral_result,_\u001b[38;5;241m=\u001b[39m\u001b[43mintegrate\u001b[49m\u001b[38;5;241;43m.\u001b[39;49m\u001b[43mquad\u001b[49m\u001b[43m(\u001b[49m\u001b[43mSNVolumetricIntegral\u001b[49m\u001b[43m,\u001b[49m\u001b[43mval_min\u001b[49m\u001b[43m,\u001b[49m\u001b[43mval\u001b[49m\u001b[43m)\u001b[49m\n\u001b[0;32m     34\u001b[0m     result_delta[i]\u001b[38;5;241m=\u001b[39mintegral_result\n\u001b[0;32m     35\u001b[0m     val_min \u001b[38;5;241m=\u001b[39m val\n",
      "File \u001b[1;32mc:\\users\\ronan\\appdata\\local\\programs\\python\\python311\\lib\\site-packages\\scipy-1.11.2-py3.11-win-amd64.egg\\scipy\\integrate\\_quadpack_py.py:465\u001b[0m, in \u001b[0;36mquad\u001b[1;34m(func, a, b, args, full_output, epsabs, epsrel, limit, points, weight, wvar, wopts, maxp1, limlst, complex_func)\u001b[0m\n\u001b[0;32m    462\u001b[0m     \u001b[38;5;28;01mreturn\u001b[39;00m retval\n\u001b[0;32m    464\u001b[0m \u001b[38;5;28;01mif\u001b[39;00m weight \u001b[38;5;129;01mis\u001b[39;00m \u001b[38;5;28;01mNone\u001b[39;00m:\n\u001b[1;32m--> 465\u001b[0m     retval \u001b[38;5;241m=\u001b[39m \u001b[43m_quad\u001b[49m\u001b[43m(\u001b[49m\u001b[43mfunc\u001b[49m\u001b[43m,\u001b[49m\u001b[43m \u001b[49m\u001b[43ma\u001b[49m\u001b[43m,\u001b[49m\u001b[43m \u001b[49m\u001b[43mb\u001b[49m\u001b[43m,\u001b[49m\u001b[43m \u001b[49m\u001b[43margs\u001b[49m\u001b[43m,\u001b[49m\u001b[43m \u001b[49m\u001b[43mfull_output\u001b[49m\u001b[43m,\u001b[49m\u001b[43m \u001b[49m\u001b[43mepsabs\u001b[49m\u001b[43m,\u001b[49m\u001b[43m \u001b[49m\u001b[43mepsrel\u001b[49m\u001b[43m,\u001b[49m\u001b[43m \u001b[49m\u001b[43mlimit\u001b[49m\u001b[43m,\u001b[49m\n\u001b[0;32m    466\u001b[0m \u001b[43m                   \u001b[49m\u001b[43mpoints\u001b[49m\u001b[43m)\u001b[49m\n\u001b[0;32m    467\u001b[0m \u001b[38;5;28;01melse\u001b[39;00m:\n\u001b[0;32m    468\u001b[0m     \u001b[38;5;28;01mif\u001b[39;00m points \u001b[38;5;129;01mis\u001b[39;00m \u001b[38;5;129;01mnot\u001b[39;00m \u001b[38;5;28;01mNone\u001b[39;00m:\n",
      "File \u001b[1;32mc:\\users\\ronan\\appdata\\local\\programs\\python\\python311\\lib\\site-packages\\scipy-1.11.2-py3.11-win-amd64.egg\\scipy\\integrate\\_quadpack_py.py:577\u001b[0m, in \u001b[0;36m_quad\u001b[1;34m(func, a, b, args, full_output, epsabs, epsrel, limit, points)\u001b[0m\n\u001b[0;32m    575\u001b[0m \u001b[38;5;28;01mif\u001b[39;00m points \u001b[38;5;129;01mis\u001b[39;00m \u001b[38;5;28;01mNone\u001b[39;00m:\n\u001b[0;32m    576\u001b[0m     \u001b[38;5;28;01mif\u001b[39;00m infbounds \u001b[38;5;241m==\u001b[39m \u001b[38;5;241m0\u001b[39m:\n\u001b[1;32m--> 577\u001b[0m         \u001b[38;5;28;01mreturn\u001b[39;00m \u001b[43m_quadpack\u001b[49m\u001b[38;5;241;43m.\u001b[39;49m\u001b[43m_qagse\u001b[49m\u001b[43m(\u001b[49m\u001b[43mfunc\u001b[49m\u001b[43m,\u001b[49m\u001b[43ma\u001b[49m\u001b[43m,\u001b[49m\u001b[43mb\u001b[49m\u001b[43m,\u001b[49m\u001b[43margs\u001b[49m\u001b[43m,\u001b[49m\u001b[43mfull_output\u001b[49m\u001b[43m,\u001b[49m\u001b[43mepsabs\u001b[49m\u001b[43m,\u001b[49m\u001b[43mepsrel\u001b[49m\u001b[43m,\u001b[49m\u001b[43mlimit\u001b[49m\u001b[43m)\u001b[49m\n\u001b[0;32m    578\u001b[0m     \u001b[38;5;28;01melse\u001b[39;00m:\n\u001b[0;32m    579\u001b[0m         \u001b[38;5;28;01mreturn\u001b[39;00m _quadpack\u001b[38;5;241m.\u001b[39m_qagie(func,bound,infbounds,args,full_output,epsabs,epsrel,limit)\n",
      "File \u001b[1;32m~\\AppData\\Local\\Programs\\Python\\Python311\\Lib\\site-packages\\astropy\\units\\quantity.py:1352\u001b[0m, in \u001b[0;36mQuantity.__float__\u001b[1;34m(self)\u001b[0m\n\u001b[0;32m   1350\u001b[0m     \u001b[38;5;28;01mreturn\u001b[39;00m \u001b[38;5;28mfloat\u001b[39m(\u001b[38;5;28mself\u001b[39m\u001b[38;5;241m.\u001b[39mto_value(dimensionless_unscaled))\n\u001b[0;32m   1351\u001b[0m \u001b[38;5;28;01mexcept\u001b[39;00m (UnitsError, \u001b[38;5;167;01mTypeError\u001b[39;00m):\n\u001b[1;32m-> 1352\u001b[0m     \u001b[38;5;28;01mraise\u001b[39;00m \u001b[38;5;167;01mTypeError\u001b[39;00m(\n\u001b[0;32m   1353\u001b[0m         \u001b[38;5;124m\"\u001b[39m\u001b[38;5;124monly dimensionless scalar quantities can be \u001b[39m\u001b[38;5;124m\"\u001b[39m\n\u001b[0;32m   1354\u001b[0m         \u001b[38;5;124m\"\u001b[39m\u001b[38;5;124mconverted to Python scalars\u001b[39m\u001b[38;5;124m\"\u001b[39m\n\u001b[0;32m   1355\u001b[0m     )\n",
      "\u001b[1;31mTypeError\u001b[0m: only dimensionless scalar quantities can be converted to Python scalars"
     ]
    },
    {
     "data": {
      "text/plain": [
       "<Figure size 500x300 with 0 Axes>"
      ]
     },
     "metadata": {},
     "output_type": "display_data"
    }
   ],
   "source": [
    "def delaytimedistribution(x):\n",
    "    import numpy as np\n",
    "    import astropy.units as u\n",
    "    if isinstance(x, (int, float)):\n",
    "        if x<0.04:\n",
    "            return 0*u.Gyr\n",
    "        elif x<0.5:\n",
    "            return 12.2196*u.Gyr\n",
    "        else:\n",
    "            return 1.02*u.Gyr\n",
    "    elif isinstance(x, np.ndarray):\n",
    "        result = np.where(x < 0.04, 0, np.where(x < 0.5, 12.2196, 1.02))\n",
    "        return result * u.Gyr\n",
    "    else:\n",
    "        raise ValueError(\"input must be single value or numpy array\")\n",
    "\n",
    "def volumetricSNrate(t):\n",
    "    from astropy.cosmology import Planck13, z_at_value\n",
    "    import astropy.units as u\n",
    "    t=np.atleast_1d(t)\n",
    "    z=z_at_value(Planck13.age, t*u.Gyr)\n",
    "    \"correspondance between time and redshift using z_at_value\"\n",
    "    def StarFormationHist(z):\n",
    "        s=.15*(1+z)**2.7/(1+((1+z)/2.9)**5.6)\n",
    "        return s\n",
    "    \"describes the cosmic star formation rates based on UV and IR band observations\"\n",
    "    \" below is integration to obtain SNe volumetric rate at some redshift\"\n",
    "    import scipy.integrate as integrate\n",
    "    result_delta=np.empty_like(t)\n",
    "    val_min = 0\n",
    "    SNVolumetricIntegral = lambda x: StarFormationHist(z)*delaytimedistribution(x).value\n",
    "    for i,val in enumerate(t):\n",
    "        integral_result,_=integrate.quad(SNVolumetricIntegral,val_min,val)\n",
    "        result_delta[i]=integral_result\n",
    "        val_min = val\n",
    "    result = np.cumsum(result_delta)\n",
    "    return result\n",
    "\n",
    "import numpy as np\n",
    "x = np.arange(.5, 3, .5)\n",
    "print(x)\n",
    "\"test array of redshift\" \n",
    "from matplotlib import pyplot as plt\n",
    "plt.figure(figsize=(5,3))\n",
    "y = volumetricSNrate(x)\n",
    "plt.xlabel('Gyr')\n",
    "plt.ylabel('volume')\n",
    "plt.plot(x, y, '-', color='pink')\n",
    "plt.plot(x,y)\n",
    "plt.show()\n",
    "volumetricSNrate(x)\n"
   ]
  },
  {
   "cell_type": "code",
   "execution_count": 53,
   "id": "d1f96770-08a5-4a73-8f6c-8e2423ee0069",
   "metadata": {},
   "outputs": [
    {
     "data": {
      "text/latex": [
       "$[1,~3,~4,~4,~5,~5,~5,~5,~5] \\; \\mathrm{Gyr}$"
      ],
      "text/plain": [
       "<Quantity [1., 3., 4., 4., 5., 5., 5., 5., 5.] Gyr>"
      ]
     },
     "execution_count": 53,
     "metadata": {},
     "output_type": "execute_result"
    }
   ],
   "source": [
    "def delaytimedistribution(x):\n",
    "    import numpy as np\n",
    "    import astropy.units as u\n",
    "    if isinstance(x, (int, float)):\n",
    "        if x<0.04:\n",
    "            return 0*u.Gyr\n",
    "        elif x<0.5:\n",
    "            return 12.2196*u.Gyr\n",
    "        else:\n",
    "            return 1.02*u.Gyr\n",
    "    elif isinstance(x, np.ndarray):\n",
    "        result = np.where(x < 0.04, 0, np.where(x < 0.5, 12.2196, 1.02))\n",
    "        return result * u.Gyr\n",
    "    else:\n",
    "        raise ValueError(\"input must be single value or numpy array\")\n",
    "def volumetricSNrate(t):\n",
    "    from astropy.cosmology import Planck13, z_at_value\n",
    "    import astropy.units as u\n",
    "    import scipy.integrate as integrate\n",
    "    t = np.atleast_1d(t)\n",
    "    result = np.empty_like(t)\n",
    "    for i, val in enumerate(t):\n",
    "        z_vals = np.linspace(0, val, 51)  # Split the interval into 50 subintervals\n",
    "        integrals = np.zeros(len(z_vals) - 1)\n",
    "        for j in range(len(z_vals) - 1):\n",
    "            z1, z2 = z_vals[j], z_vals[j + 1]\n",
    "            StarFormationHist = 0.15 * (1 + z_vals[j]) ** 2.7 / (\n",
    "                    1 + ((1 + z_vals[j]) / 2.9) ** 5.6)\n",
    "            SNVolumetricIntegral = lambda x: StarFormationHist * delaytimedistribution(x).value\n",
    "            integral_result, _ = integrate.quad(SNVolumetricIntegral, z1, z2)\n",
    "            integrals[j] = integral_result\n",
    "        result[i] = np.sum(integrals)\n",
    "    return result*u.Gyr\n",
    "import numpy as np\n",
    "x=np.arange(1,10,1)\n",
    "volumetricSNrate(x)"
   ]
  },
  {
   "cell_type": "code",
   "execution_count": null,
   "id": "a6da7ff5-3518-4007-8bdb-c3050f8f149a",
   "metadata": {},
   "outputs": [],
   "source": []
  }
 ],
 "metadata": {
  "kernelspec": {
   "display_name": "Python 3 (ipykernel)",
   "language": "python",
   "name": "python3"
  },
  "language_info": {
   "codemirror_mode": {
    "name": "ipython",
    "version": 3
   },
   "file_extension": ".py",
   "mimetype": "text/x-python",
   "name": "python",
   "nbconvert_exporter": "python",
   "pygments_lexer": "ipython3",
   "version": "3.11.5"
  }
 },
 "nbformat": 4,
 "nbformat_minor": 5
}
